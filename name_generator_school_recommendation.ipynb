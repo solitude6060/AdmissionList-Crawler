{
 "cells": [
  {
   "cell_type": "markdown",
   "metadata": {},
   "source": [
    "# Name generator with pytorch"
   ]
  },
  {
   "cell_type": "code",
   "execution_count": 10,
   "metadata": {},
   "outputs": [],
   "source": [
    "import pickle"
   ]
  },
  {
   "cell_type": "code",
   "execution_count": 11,
   "metadata": {},
   "outputs": [],
   "source": [
    "f=  open ('./char_embedding.pkl', 'rb')\n",
    "dict_char = pickle.load(f)\n",
    "f.close()"
   ]
  },
  {
   "cell_type": "code",
   "execution_count": 12,
   "metadata": {},
   "outputs": [],
   "source": [
    "dict_char_idx = dict()\n",
    "dict_idx_char = dict()\n",
    "for i, char in enumerate(dict_char.keys()):\n",
    "    dict_char_idx[char] = i\n",
    "for i, char in enumerate(dict_char.keys()):\n",
    "    dict_idx_char[i] = char"
   ]
  },
  {
   "cell_type": "code",
   "execution_count": 13,
   "metadata": {},
   "outputs": [],
   "source": [
    "import torch\n",
    "from torch import nn\n",
    "from torch.autograd import Variable as V\n",
    "import torch.optim as optim\n",
    "from torch.nn.functional import log_softmax \n",
    "import random\n",
    "import torch.nn.functional as F"
   ]
  },
  {
   "cell_type": "code",
   "execution_count": 14,
   "metadata": {},
   "outputs": [],
   "source": [
    "class RNN(nn.Module):\n",
    "    def __init__(self, input_size, hidden_size, output_size):\n",
    "        super(RNN, self).__init__()\n",
    "        self.input_size = input_size\n",
    "        self.hidden_size = hidden_size\n",
    "        self.output_size = output_size\n",
    "        self.gru = nn.GRU(self.input_size, self.hidden_size,dropout = 0.5)\n",
    "        self.h2o = nn.Linear(self.hidden_size, self.output_size)\n",
    "        self.softmax = nn.LogSoftmax() \n",
    "    def forward(self, input):\n",
    "        out,_ = self.gru(input)\n",
    "        out = self.h2o(out).squeeze(0).squeeze(0)\n",
    "        output = self.softmax(out)\n",
    "        return output\n",
    "    def initHidden(self):\n",
    "        return torch.zeros(1, self.hidden_size)"
   ]
  },
  {
   "cell_type": "code",
   "execution_count": 15,
   "metadata": {},
   "outputs": [],
   "source": [
    "def predict_name_ran(char1) :\n",
    "    char2=''\n",
    "    char3=''\n",
    "    char4='' \n",
    "    char2 = predict_char_ran10(char1)\n",
    "    while char2 == '。':\n",
    "        char2 = predict_char_ran10(char1)\n",
    "    if char2 != '。' :\n",
    "        char3 = predict_char_ran10(char2)\n",
    "    if char3 != '。' :\n",
    "        char4 = predict_char(char3)\n",
    "\n",
    "    name = char1 + char2 + char3 + char4    \n",
    "    return name"
   ]
  },
  {
   "cell_type": "code",
   "execution_count": 16,
   "metadata": {},
   "outputs": [],
   "source": [
    "def predict_char(char):\n",
    "    test = dict_char[char]\n",
    "    test_tensor = torch.from_numpy(test).unsqueeze(0).unsqueeze(0).cuda()\n",
    "    #print (test_tensor.shape)\n",
    "    gen_test = model(test_tensor)\n",
    " \n",
    "    k = int(torch.max(gen_test,0)[1])\n",
    "    \n",
    "    return dict_idx_char[k]"
   ]
  },
  {
   "cell_type": "code",
   "execution_count": 17,
   "metadata": {},
   "outputs": [],
   "source": [
    "def predict_char_ran10(char):\n",
    "    test = dict_char[char]\n",
    "    test_tensor = torch.from_numpy(test).unsqueeze(0).unsqueeze(0).cuda()\n",
    "    gen_test = model(test_tensor)\n",
    "    k = torch.topk(gen_test,10)[1]    \n",
    "    ran = int(random.random()*10)\n",
    "    r= int(list(k)[ran])\n",
    "    \n",
    "    return dict_idx_char[r]"
   ]
  },
  {
   "cell_type": "code",
   "execution_count": 18,
   "metadata": {},
   "outputs": [
    {
     "name": "stderr",
     "output_type": "stream",
     "text": [
      "C:\\Users\\solit\\AppData\\Local\\conda\\conda\\envs\\DL\\lib\\site-packages\\torch\\serialization.py:325: SourceChangeWarning: source code of class 'torch.nn.modules.rnn.GRU' has changed. you can retrieve the original source code by accessing the object's source attribute or set `torch.nn.Module.dump_patches = True` and use the patch tool to revert the changes.\n",
      "  warnings.warn(msg, SourceChangeWarning)\n"
     ]
    },
    {
     "ename": "AttributeError",
     "evalue": "Can't get attribute '_rebuild_tensor_v2' on <module 'torch._utils' from 'C:\\\\Users\\\\solit\\\\AppData\\\\Local\\\\conda\\\\conda\\\\envs\\\\DL\\\\lib\\\\site-packages\\\\torch\\\\_utils.py'>",
     "output_type": "error",
     "traceback": [
      "\u001b[1;31m---------------------------------------------------------------------------\u001b[0m",
      "\u001b[1;31mAttributeError\u001b[0m                            Traceback (most recent call last)",
      "\u001b[1;32m<ipython-input-18-ce053ffc45c4>\u001b[0m in \u001b[0;36m<module>\u001b[1;34m\u001b[0m\n\u001b[0;32m      6\u001b[0m \u001b[1;33m\u001b[0m\u001b[0m\n\u001b[0;32m      7\u001b[0m \u001b[0mmodel\u001b[0m \u001b[1;33m=\u001b[0m \u001b[0mRNN\u001b[0m\u001b[1;33m(\u001b[0m\u001b[0mINPUT_DIM\u001b[0m\u001b[1;33m,\u001b[0m \u001b[0mHIDDEN_DIM\u001b[0m\u001b[1;33m,\u001b[0m \u001b[0mTARGET_DIM\u001b[0m\u001b[1;33m)\u001b[0m\u001b[1;33m.\u001b[0m\u001b[0mcuda\u001b[0m\u001b[1;33m(\u001b[0m\u001b[1;33m)\u001b[0m\u001b[1;33m\u001b[0m\u001b[1;33m\u001b[0m\u001b[0m\n\u001b[1;32m----> 8\u001b[1;33m \u001b[0mmodel\u001b[0m \u001b[1;33m=\u001b[0m \u001b[0mtorch\u001b[0m\u001b[1;33m.\u001b[0m\u001b[0mload\u001b[0m\u001b[1;33m(\u001b[0m\u001b[1;34m'./dataset/model-none-max-31.pkl'\u001b[0m\u001b[1;33m)\u001b[0m\u001b[1;33m\u001b[0m\u001b[1;33m\u001b[0m\u001b[0m\n\u001b[0m",
      "\u001b[1;32m~\\AppData\\Local\\conda\\conda\\envs\\DL\\lib\\site-packages\\torch\\serialization.py\u001b[0m in \u001b[0;36mload\u001b[1;34m(f, map_location, pickle_module)\u001b[0m\n\u001b[0;32m    265\u001b[0m         \u001b[0mf\u001b[0m \u001b[1;33m=\u001b[0m \u001b[0mopen\u001b[0m\u001b[1;33m(\u001b[0m\u001b[0mf\u001b[0m\u001b[1;33m,\u001b[0m \u001b[1;34m'rb'\u001b[0m\u001b[1;33m)\u001b[0m\u001b[1;33m\u001b[0m\u001b[1;33m\u001b[0m\u001b[0m\n\u001b[0;32m    266\u001b[0m     \u001b[1;32mtry\u001b[0m\u001b[1;33m:\u001b[0m\u001b[1;33m\u001b[0m\u001b[1;33m\u001b[0m\u001b[0m\n\u001b[1;32m--> 267\u001b[1;33m         \u001b[1;32mreturn\u001b[0m \u001b[0m_load\u001b[0m\u001b[1;33m(\u001b[0m\u001b[0mf\u001b[0m\u001b[1;33m,\u001b[0m \u001b[0mmap_location\u001b[0m\u001b[1;33m,\u001b[0m \u001b[0mpickle_module\u001b[0m\u001b[1;33m)\u001b[0m\u001b[1;33m\u001b[0m\u001b[1;33m\u001b[0m\u001b[0m\n\u001b[0m\u001b[0;32m    268\u001b[0m     \u001b[1;32mfinally\u001b[0m\u001b[1;33m:\u001b[0m\u001b[1;33m\u001b[0m\u001b[1;33m\u001b[0m\u001b[0m\n\u001b[0;32m    269\u001b[0m         \u001b[1;32mif\u001b[0m \u001b[0mnew_fd\u001b[0m\u001b[1;33m:\u001b[0m\u001b[1;33m\u001b[0m\u001b[1;33m\u001b[0m\u001b[0m\n",
      "\u001b[1;32m~\\AppData\\Local\\conda\\conda\\envs\\DL\\lib\\site-packages\\torch\\serialization.py\u001b[0m in \u001b[0;36m_load\u001b[1;34m(f, map_location, pickle_module)\u001b[0m\n\u001b[0;32m    418\u001b[0m     \u001b[0munpickler\u001b[0m \u001b[1;33m=\u001b[0m \u001b[0mpickle_module\u001b[0m\u001b[1;33m.\u001b[0m\u001b[0mUnpickler\u001b[0m\u001b[1;33m(\u001b[0m\u001b[0mf\u001b[0m\u001b[1;33m)\u001b[0m\u001b[1;33m\u001b[0m\u001b[1;33m\u001b[0m\u001b[0m\n\u001b[0;32m    419\u001b[0m     \u001b[0munpickler\u001b[0m\u001b[1;33m.\u001b[0m\u001b[0mpersistent_load\u001b[0m \u001b[1;33m=\u001b[0m \u001b[0mpersistent_load\u001b[0m\u001b[1;33m\u001b[0m\u001b[1;33m\u001b[0m\u001b[0m\n\u001b[1;32m--> 420\u001b[1;33m     \u001b[0mresult\u001b[0m \u001b[1;33m=\u001b[0m \u001b[0munpickler\u001b[0m\u001b[1;33m.\u001b[0m\u001b[0mload\u001b[0m\u001b[1;33m(\u001b[0m\u001b[1;33m)\u001b[0m\u001b[1;33m\u001b[0m\u001b[1;33m\u001b[0m\u001b[0m\n\u001b[0m\u001b[0;32m    421\u001b[0m \u001b[1;33m\u001b[0m\u001b[0m\n\u001b[0;32m    422\u001b[0m     \u001b[0mdeserialized_storage_keys\u001b[0m \u001b[1;33m=\u001b[0m \u001b[0mpickle_module\u001b[0m\u001b[1;33m.\u001b[0m\u001b[0mload\u001b[0m\u001b[1;33m(\u001b[0m\u001b[0mf\u001b[0m\u001b[1;33m)\u001b[0m\u001b[1;33m\u001b[0m\u001b[1;33m\u001b[0m\u001b[0m\n",
      "\u001b[1;31mAttributeError\u001b[0m: Can't get attribute '_rebuild_tensor_v2' on <module 'torch._utils' from 'C:\\\\Users\\\\solit\\\\AppData\\\\Local\\\\conda\\\\conda\\\\envs\\\\DL\\\\lib\\\\site-packages\\\\torch\\\\_utils.py'>"
     ]
    }
   ],
   "source": [
    "INPUT_DIM = 256\n",
    "HIDDEN_DIM = 64\n",
    "TARGET_DIM = len(dict_char.keys())\n",
    "teacher_force = 0.87\n",
    "forget_end = 0.1\n",
    "\n",
    "model = RNN(INPUT_DIM, HIDDEN_DIM, TARGET_DIM).cuda()\n",
    "model = torch.load('./dataset/model-none-max-31.pkl')"
   ]
  },
  {
   "cell_type": "code",
   "execution_count": null,
   "metadata": {},
   "outputs": [],
   "source": [
    "predict_name = predict_name_ran('林')\n",
    "print(predict)"
   ]
  },
  {
   "cell_type": "markdown",
   "metadata": {},
   "source": [
    "# School and position recommendation with keras"
   ]
  },
  {
   "cell_type": "code",
   "execution_count": 1,
   "metadata": {},
   "outputs": [],
   "source": [
    "sc_name_dict = {'CGU':\"長庚大學\", 'CMU':\"中國醫藥大學\", 'CYCU':\"中原大學\", 'FCU':\"逢甲大學\", 'KMU':\"高雄醫學大學\", \n",
    "                'NCCU':\"政治大學\", 'NCHU':\"中興大學\", 'NCKU':\"成功大學\", 'NCTU':\"交通大學\", 'NCUE':\"彰化師範大學\", \n",
    "                'NDHU':\"東華大學\", 'NKNU':\"高雄師範大學\", 'NPTU':\"屏東大學\", 'NSYSU':\"中山大學\", 'NTCU':\"臺中教育大學\", \n",
    "                'NTHU':\"清華大學\", 'NTNU':\"臺灣師範大學\", 'NTU':\"臺灣大學\", 'NTUE':\"臺北教育大學\", 'NUTN':\"臺南大學\",\n",
    "                'SCU':\"東吳大學\", 'THU':\"東海大學\", 'TKU':\"淡江大學\", 'TNUA':\"臺北藝術大學\", 'UTAIPEI':\"臺北市立大學\",\n",
    "                'YM':\"陽明大學\"}"
   ]
  },
  {
   "cell_type": "code",
   "execution_count": 2,
   "metadata": {},
   "outputs": [],
   "source": [
    "def getCharEmbed(name):\n",
    "    temp = []\n",
    "    for char in name:\n",
    "        try:\n",
    "            temp.append(dict_char[char])\n",
    "        except:\n",
    "            k, v = random.choice(list(dict_char.items()))\n",
    "            temp.append(v)\n",
    "            \n",
    "    if len(temp) == 2:\n",
    "        # k, v = random.choice(list(dict_char.items()))\n",
    "        user_emb = np.mean([temp[0], temp[1]], axis=0)\n",
    "        con_emb = np.concatenate((temp[0], temp[1], temp[1]))\n",
    "    elif len(temp) == 3:\n",
    "        user_emb = np.mean([temp[0], temp[1], temp[2]], axis=0)\n",
    "        con_emb = np.concatenate((temp[0], temp[1], temp[2]))\n",
    "    elif len(temp) == 4:\n",
    "        user_emb = np.mean([temp[0], temp[1], temp[2], temp[-1]], axis=0)\n",
    "        con_emb = np.concatenate((temp[0], temp[1], temp[2]))\n",
    "    else:\n",
    "        for i in range(3):\n",
    "            k, v = random.choice(list(dict_char.items()))\n",
    "            temp.append(v)\n",
    "        user_emb = v\n",
    "        con_emb = np.concatenate((temp[0], temp[1], temp[2]))\n",
    "    \n",
    "    #return user_emb\n",
    "    return con_emb"
   ]
  },
  {
   "cell_type": "code",
   "execution_count": 6,
   "metadata": {},
   "outputs": [
    {
     "name": "stdout",
     "output_type": "stream",
     "text": [
      "{'董事': 0, '董事長': 1, '獨立董事': 2, '副董事長': 3, '常務董事': 4, '執行業務股東': 5, 'CGU': 6, 'CMU': 7, 'CYCU': 8, 'FCU': 9, 'KMU': 10, 'NCCU': 11, 'NCHU': 12, 'NCKU': 13, 'NCTU': 14, 'NCUE': 15, 'NDHU': 16, 'NKNU': 17, 'NPTU': 18, 'NSYSU': 19, 'NTCU': 20, 'NTHU': 21, 'NTNU': 22, 'NTU': 23, 'NTUE': 24, 'NUTN': 25, 'SCU': 26, 'THU': 27, 'TKU': 28, 'TNUA': 29, 'UTAIPEI': 30, 'YM': 31}\n"
     ]
    }
   ],
   "source": [
    "f = open ('./dataset/item_index_withEN.pkl', 'rb')\n",
    "item_index_dict = pickle.load(f)\n",
    "f.close()\n",
    "\n",
    "print(item_index_dict) "
   ]
  },
  {
   "cell_type": "code",
   "execution_count": 7,
   "metadata": {},
   "outputs": [],
   "source": [
    "def getSchool(item_index_dict, score_list):\n",
    "    broad_list = []\n",
    "    for i in range(len(score_list)):\n",
    "        if score_list[i] == 1:\n",
    "            for k, v in item_index_dict.items():\n",
    "                if v == i:\n",
    "                    broad_list.append(k)\n",
    "    return broad_list"
   ]
  },
  {
   "cell_type": "code",
   "execution_count": 8,
   "metadata": {},
   "outputs": [],
   "source": [
    "def predictSchool(name):\n",
    "    count = 0\n",
    "    max_score = 0\n",
    "    max_sc_index = 0\n",
    "    print(name)\n",
    "    u = getCharEmbed(name)\n",
    "    score_list = []\n",
    "    ori_score_dict = {}\n",
    "    for i in range(32):\n",
    "        output = model_con_300.predict([[u], [i]])\n",
    "        #output = model.predict([[u], [i]])\n",
    "        ori_score_dict[output[0][0]] = i\n",
    "        if output[0][0] > max_score:\n",
    "            max_score = output[0][0]\n",
    "            max_sc_index = i\n",
    "        if output[0][0] > 0.82:\n",
    "            score_list.append(1)\n",
    "            count += 1\n",
    "        else:\n",
    "            score_list.append(0)\n",
    "        \n",
    "    ori_score_list = list(ori_score_dict.keys())\n",
    "    ori_score_list.sort(reverse=True)\n",
    "    \n",
    "    print(\"你會上的機率前五高學校或職位有 :\", end=\" \")\n",
    "    # print(ori_score_dict)\n",
    "    # print(list(ori_score_dict.keys()))\n",
    "    for ori in ori_score_list[:5]:\n",
    "        print(list(sc_name_dict.values())[ori_score_dict[ori]-6], end=\" \")\n",
    "    #if count > 0:\n",
    "    print(\"\\n機率最大的是:\", list(sc_name_dict.values())[max_sc_index-6])\n",
    "    \n",
    "    print(\"你有超過八成機率會上的學校或職位有 :\", count, \"個\")\n",
    "    output_list = getSchool(item_index_dict, score_list)\n",
    "    print(\"你有超過八成機率會上的學校或職位有 :\", end=\" \")\n",
    "    for out in output_list:\n",
    "        print(sc_name_dict[out], end=\" \")\n",
    "    #print(\"\\n\")\n",
    "    \n",
    "    \n",
    "        #print(max_sc_index)\n",
    "    #print(\"\\n\")\n",
    "    max_sc_index = 0"
   ]
  },
  {
   "cell_type": "code",
   "execution_count": 9,
   "metadata": {},
   "outputs": [],
   "source": [
    "def name_generate_school(char):\n",
    "    name = predict_name_ran(char)\n",
    "    predictSchool(name)"
   ]
  },
  {
   "cell_type": "code",
   "execution_count": null,
   "metadata": {},
   "outputs": [],
   "source": [
    "name_generate_school('林')"
   ]
  }
 ],
 "metadata": {
  "kernelspec": {
   "display_name": "Python 3",
   "language": "python",
   "name": "python3"
  },
  "language_info": {
   "codemirror_mode": {
    "name": "ipython",
    "version": 3
   },
   "file_extension": ".py",
   "mimetype": "text/x-python",
   "name": "python",
   "nbconvert_exporter": "python",
   "pygments_lexer": "ipython3",
   "version": "3.6.8"
  }
 },
 "nbformat": 4,
 "nbformat_minor": 2
}
