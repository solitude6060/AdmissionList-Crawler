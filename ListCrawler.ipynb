{
 "cells": [
  {
   "cell_type": "code",
   "execution_count": 1,
   "metadata": {},
   "outputs": [],
   "source": [
    "import requests\n",
    "import urllib.request\n",
    "import ssl\n",
    "import random\n"
   ]
  },
  {
   "cell_type": "code",
   "execution_count": 2,
   "metadata": {},
   "outputs": [],
   "source": [
    "url = \"https://www.com.tw/cross/check_001022_NO_1_108_0_3.html\"\n",
    "#proxy = \"104.25.240.106\"\n",
    "#proxies = { \"http\": \"http://10.10.1.10:3128\", \"https\": \"http://10.10.1.10:1080\", } \n",
    "proxies = { \"http\": \"http://104.25.240.106:80\", \"https\": \"http://104.25.240.106:80\", }\n",
    "kv = {\n",
    "    'connection': 'close',\n",
    "    'transfer-encoding': 'chunked',\n",
    "    'Accept': 'text/html',\n",
    "    'server': 'nginx/1.0.4',\n",
    "    'user-agent':'Mozilla/5.0'}\n",
    "\n",
    "USER_AGENT_LIST = [\n",
    "    'MSIE (MSIE 6.0; X11; Linux; i686) Opera 7.23',\n",
    "    'Opera/9.20 (Macintosh; Intel Mac OS X; U; en)',\n",
    "    'Opera/9.0 (Macintosh; PPC Mac OS X; U; en)',\n",
    "    'iTunes/9.0.3 (Macintosh; U; Intel Mac OS X 10_6_2; en-ca)',\n",
    "    'Mozilla/4.76 [en_jp] (X11; U; SunOS 5.8 sun4u)',\n",
    "    'iTunes/4.2 (Macintosh; U; PPC Mac OS X 10.2)',\n",
    "    'Mozilla/5.0 (Macintosh; Intel Mac OS X 10.6; rv:5.0) Gecko/20100101 Firefox/5.0',\n",
    "    'Mozilla/5.0 (Macintosh; Intel Mac OS X 10.6; rv:9.0) Gecko/20100101 Firefox/9.0',\n",
    "    'Mozilla/5.0 (Macintosh; Intel Mac OS X 10.8; rv:16.0) Gecko/20120813 Firefox/16.0',\n",
    "    'Mozilla/4.77 [en] (X11; I; IRIX;64 6.5 IP30)',\n",
    "    'Mozilla/4.8 [en] (X11; U; SunOS; 5.7 sun4u)'\n",
    "]\n",
    "\n",
    "USER_AGENT = random.choice(USER_AGENT_LIST)\n",
    "\n",
    "kv['user-agent'] = USER_AGENT"
   ]
  },
  {
   "cell_type": "code",
   "execution_count": 3,
   "metadata": {},
   "outputs": [],
   "source": [
    "re = requests.get(url, headers = kv, allow_redirects=True)"
   ]
  },
  {
   "cell_type": "code",
   "execution_count": 4,
   "metadata": {},
   "outputs": [
    {
     "name": "stdout",
     "output_type": "stream",
     "text": [
      "https://www.com.tw/cross/check_001022_NO_1_108_0_3.html\n",
      "503\n",
      "text/html; charset=UTF-8\n",
      "{'Date': 'Tue, 11 Jun 2019 18:21:11 GMT', 'Content-Type': 'text/html; charset=UTF-8', 'Transfer-Encoding': 'chunked', 'Connection': 'close', 'X-Frame-Options': 'SAMEORIGIN', 'Set-Cookie': '__cfduid=d3ddc349cb660414b534d040a432b65d21560277271; expires=Wed, 10-Jun-20 18:21:11 GMT; path=/; domain=.www.com.tw; HttpOnly; Secure', 'Cache-Control': 'no-cache', 'Expect-CT': 'max-age=604800, report-uri=\"https://report-uri.cloudflare.com/cdn-cgi/beacon/expect-ct\"', 'Vary': 'Accept-Encoding', 'Server': 'cloudflare', 'CF-RAY': '4e559a72cf55466c-TPE'}\n"
     ]
    }
   ],
   "source": [
    "print(re.url)\n",
    "print(re.status_code)\n",
    "print(re.headers['content-type'])\n",
    "print(re.headers)"
   ]
  },
  {
   "cell_type": "code",
   "execution_count": null,
   "metadata": {},
   "outputs": [],
   "source": [
    "print(re.text)"
   ]
  },
  {
   "cell_type": "code",
   "execution_count": null,
   "metadata": {},
   "outputs": [],
   "source": [
    "context = ssl._create_unverified_context()"
   ]
  },
  {
   "cell_type": "code",
   "execution_count": null,
   "metadata": {},
   "outputs": [],
   "source": [
    "urllib.request.urlopen(url, context=context)"
   ]
  },
  {
   "cell_type": "code",
   "execution_count": null,
   "metadata": {},
   "outputs": [],
   "source": []
  }
 ],
 "metadata": {
  "kernelspec": {
   "display_name": "Python 3",
   "language": "python",
   "name": "python3"
  },
  "language_info": {
   "codemirror_mode": {
    "name": "ipython",
    "version": 3
   },
   "file_extension": ".py",
   "mimetype": "text/x-python",
   "name": "python",
   "nbconvert_exporter": "python",
   "pygments_lexer": "ipython3",
   "version": "3.6.8"
  }
 },
 "nbformat": 4,
 "nbformat_minor": 2
}
