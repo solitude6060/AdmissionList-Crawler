{
 "cells": [
  {
   "cell_type": "code",
   "execution_count": 19,
   "metadata": {},
   "outputs": [],
   "source": [
    "import requests\n",
    "import urllib.request\n",
    "import ssl\n",
    "import random\n"
   ]
  },
  {
   "cell_type": "code",
   "execution_count": 38,
   "metadata": {},
   "outputs": [],
   "source": [
    "url = \"https://www.com.tw/cross/check_001022_NO_1_108_0_3.html\"\n",
    "#proxy = \"104.25.240.106\"\n",
    "#proxies = { \"http\": \"http://10.10.1.10:3128\", \"https\": \"http://10.10.1.10:1080\", } \n",
    "proxies = { \"http\": \"http://104.25.240.106:80\", \"https\": \"http://104.25.240.106:80\", }\n",
    "kv = {\n",
    "    'connection': 'close',\n",
    "    'transfer-encoding': 'chunked',\n",
    "    'Accept': 'text/html',\n",
    "    'server': 'nginx/1.0.4',\n",
    "    'user-agent':'Mozilla/5.0'}\n",
    "\n",
    "USER_AGENT_LIST = [\n",
    "    'MSIE (MSIE 6.0; X11; Linux; i686) Opera 7.23',\n",
    "    'Opera/9.20 (Macintosh; Intel Mac OS X; U; en)',\n",
    "    'Opera/9.0 (Macintosh; PPC Mac OS X; U; en)',\n",
    "    'iTunes/9.0.3 (Macintosh; U; Intel Mac OS X 10_6_2; en-ca)',\n",
    "    'Mozilla/4.76 [en_jp] (X11; U; SunOS 5.8 sun4u)',\n",
    "    'iTunes/4.2 (Macintosh; U; PPC Mac OS X 10.2)',\n",
    "    'Mozilla/5.0 (Macintosh; Intel Mac OS X 10.6; rv:5.0) Gecko/20100101 Firefox/5.0',\n",
    "    'Mozilla/5.0 (Macintosh; Intel Mac OS X 10.6; rv:9.0) Gecko/20100101 Firefox/9.0',\n",
    "    'Mozilla/5.0 (Macintosh; Intel Mac OS X 10.8; rv:16.0) Gecko/20120813 Firefox/16.0',\n",
    "    'Mozilla/4.77 [en] (X11; I; IRIX;64 6.5 IP30)',\n",
    "    'Mozilla/4.8 [en] (X11; U; SunOS; 5.7 sun4u)'\n",
    "]\n",
    "\n",
    "USER_AGENT = random.choice(USER_AGENT_LIST)\n",
    "\n",
    "kv['user-agent'] = USER_AGENT"
   ]
  },
  {
   "cell_type": "code",
   "execution_count": 39,
   "metadata": {},
   "outputs": [],
   "source": [
    "re = requests.get(url, headers = kv, allow_redirects=True)"
   ]
  },
  {
   "cell_type": "code",
   "execution_count": 40,
   "metadata": {},
   "outputs": [
    {
     "name": "stdout",
     "output_type": "stream",
     "text": [
      "https://www.com.tw/cross/check_001022_NO_1_108_0_3.html\n",
      "503\n",
      "text/html; charset=UTF-8\n",
      "{'Date': 'Tue, 11 Jun 2019 18:16:56 GMT', 'Content-Type': 'text/html; charset=UTF-8', 'Transfer-Encoding': 'chunked', 'Connection': 'close', 'X-Frame-Options': 'SAMEORIGIN', 'Set-Cookie': '__cfduid=df8385b7f8b891860e62cab57ba3e96ad1560277016; expires=Wed, 10-Jun-20 18:16:56 GMT; path=/; domain=.www.com.tw; HttpOnly; Secure', 'Cache-Control': 'no-cache', 'Expect-CT': 'max-age=604800, report-uri=\"https://report-uri.cloudflare.com/cdn-cgi/beacon/expect-ct\"', 'Vary': 'Accept-Encoding', 'Server': 'cloudflare', 'CF-RAY': '4e55943b0b77463c-TPE'}\n"
     ]
    }
   ],
   "source": [
    "print(re.url)\n",
    "print(re.status_code)\n",
    "print(re.headers['content-type'])\n",
    "print(re.headers)"
   ]
  },
  {
   "cell_type": "code",
   "execution_count": 24,
   "metadata": {},
   "outputs": [
    {
     "name": "stdout",
     "output_type": "stream",
     "text": [
      "<!DOCTYPE html PUBLIC \"-//W3C//DTD XHTML 1.0 Transitional//EN\" \"http://www.w3.org/TR/xhtml1/DTD/xhtml1-transitional.dtd\">\r\n",
      "<html xmlns=\"http://www.w3.org/1999/xhtml\">\r\n",
      "<head>\r\n",
      "<meta http-equiv=\"Content-Type\" content=\"text/html; charset=utf-8\" />\r\n",
      "<title>無標題文件</title>\r\n",
      "<style>body{background-color:#009fcc}h1{color:#fff;text-align:center}p{font-family:verdana;font-size:20px}</style>\r\n",
      "<script type=\"text/javascript\">\n",
      "  //<![CDATA[\n",
      "  (function(){\n",
      "    var a = function() {try{return !!window.addEventListener} catch(e) {return !1} },\n",
      "    b = function(b, c) {a() ? document.addEventListener(\"DOMContentLoaded\", b, c) : document.attachEvent(\"onreadystatechange\", b)};\n",
      "    b(function(){\n",
      "      var a = document.getElementById('cf-content');a.style.display = 'block';\n",
      "      setTimeout(function(){\n",
      "        var s,t,o,p,b,r,e,a,k,i,n,g,f, qAVpWxQ={\"vo\":+((!+[]+!![]+!![]+!![]+!![]+!![]+!![]+!![]+[])+(!+[]+!![]+!![])+(!+[]+!![]+!![]+!![]+!![]+!![]+!![]+!![])+(+[])+(!+[]+!![]+!![]+!![])+(+!![])+(!+[]+!![]+!![]+!![]+!![]+!![])+(!+[]+!![]+!![]+!![])+(!+[]+!![]+!![]+!![]+!![]+!![]+!![]))/+((+!![]+[])+(!+[]+!![]+!![]+!![]+!![]+!![])+(!+[]+!![]+!![]+!![]+!![]+!![]+!![]+!![]+!![])+(!+[]+!![]+!![]+!![]+!![])+(!+[]+!![]+!![]+!![])+(!+[]+!![]+!![])+(+[])+(!+[]+!![]+!![]+!![])+(!+[]+!![]+!![]+!![]))};\n",
      "        g = String.fromCharCode;\n",
      "        o = \"ABCDEFGHIJKLMNOPQRSTUVWXYZabcdefghijklmnopqrstuvwxyz0123456789+/=\";\n",
      "        e = function(s) {\n",
      "          s += \"==\".slice(2 - (s.length & 3));\n",
      "          var bm, r = \"\", r1, r2, i = 0;\n",
      "          for (; i < s.length;) {\n",
      "              bm = o.indexOf(s.charAt(i++)) << 18 | o.indexOf(s.charAt(i++)) << 12\n",
      "                      | (r1 = o.indexOf(s.charAt(i++))) << 6 | (r2 = o.indexOf(s.charAt(i++)));\n",
      "              r += r1 === 64 ? g(bm >> 16 & 255)\n",
      "                      : r2 === 64 ? g(bm >> 16 & 255, bm >> 8 & 255)\n",
      "                      : g(bm >> 16 & 255, bm >> 8 & 255, bm & 255);\n",
      "          }\n",
      "          return r;\n",
      "        };\n",
      "        t = document.createElement('div');\n",
      "        t.innerHTML=\"<a href='/'>x</a>\";\n",
      "        t = t.firstChild.href;r = t.match(/https?:\\/\\//)[0];\n",
      "        t = t.substr(r.length); t = t.substr(0,t.length-1); \n",
      "        a = document.getElementById('jschl-answer');\n",
      "        f = document.getElementById('challenge-form');\n",
      "        ;qAVpWxQ.vo-=+((!+[]+!![]+!![]+!![]+!![]+!![]+!![]+!![]+[])+(+!![])+(!+[]+!![]+!![]+!![]+!![]+!![]+!![])+(!+[]+!![]+!![]+!![]+!![])+(+[])+(!+[]+!![]+!![]+!![])+(!+[]+!![])+(!+[]+!![]+!![]+!![]+!![])+(!+[]+!![]+!![]))/+((+!![]+[])+(!+[]+!![]+!![]+!![]+!![]+!![]+!![]+!![])+(!+[]+!![]+!![]+!![])+(!+[]+!![]+!![]+!![]+!![]+!![]+!![])+(+[])+(!+[]+!![]+!![]+!![]+!![]+!![]+!![]+!![])+(!+[]+!![]+!![]+!![]+!![]+!![]+!![]+!![]+!![])+(!+[]+!![]+!![]+!![]+!![]+!![]+!![]+!![])+(!+[]+!![]+!![]+!![]));qAVpWxQ.vo*=+((!+[]+!![]+!![]+!![]+!![]+!![]+!![]+[])+(!+[]+!![]+!![]+!![]+!![]+!![]+!![]+!![]+!![])+(!+[]+!![]+!![]+!![]+!![]+!![]+!![])+(+[])+(+[])+(!+[]+!![]+!![])+(!+[]+!![]+!![]+!![])+(!+[]+!![]+!![])+(!+[]+!![]+!![]+!![]+!![]+!![]+!![]))/+((+!![]+[])+(!+[]+!![]+!![]+!![]+!![]+!![]+!![]+!![]+!![])+(!+[]+!![]+!![])+(!+[]+!![]+!![]+!![]+!![]+!![]+!![]+!![])+(!+[]+!![]+!![]+!![]+!![]+!![]+!![]+!![]+!![])+(!+[]+!![]+!![]+!![])+(!+[]+!![]+!![]+!![]+!![])+(!+[]+!![]+!![]+!![]+!![]+!![]+!![])+(+!![]));qAVpWxQ.vo*=+((!+[]+!![]+!![]+!![]+!![]+!![]+!![]+!![]+[])+(+!![])+(!+[]+!![]+!![]+!![]+!![]+!![]+!![])+(!+[]+!![]+!![]+!![]+!![])+(+[])+(!+[]+!![]+!![]+!![])+(!+[]+!![])+(!+[]+!![]+!![]+!![])+(!+[]+!![]+!![]))/+((!+[]+!![]+!![]+!![]+[])+(!+[]+!![]+!![]+!![]+!![]+!![]+!![]+!![]+!![])+(!+[]+!![]+!![]+!![]+!![]+!![]+!![]+!![]+!![])+(!+[]+!![]+!![])+(!+[]+!![]+!![])+(!+[]+!![]+!![]+!![]+!![]+!![])+(!+[]+!![]+!![]+!![]+!![]+!![]+!![]+!![])+(!+[]+!![]+!![])+(!+[]+!![]+!![]+!![]+!![]+!![]+!![]+!![]+!![]));qAVpWxQ.vo+=+((!+[]+!![]+!![]+!![]+!![]+!![]+!![]+!![]+!![]+[])+(!+[]+!![])+(+[])+(!+[]+!![]+!![]+!![])+(+!![])+(!+[]+!![]+!![]+!![]+!![]+!![]+!![]+!![]+!![])+(!+[]+!![]+!![]+!![]+!![]+!![]+!![]+!![])+(!+[]+!![])+(!+[]+!![]+!![]))/+((!+[]+!![]+!![]+!![]+!![]+!![]+!![]+!![]+[])+(!+[]+!![]+!![]+!![]+!![]+!![]+!![])+(+[])+(!+[]+!![]+!![]+!![]+!![])+(+[])+(!+[]+!![]+!![]+!![]+!![]+!![]+!![]+!![])+(!+[]+!![]+!![]+!![])+(!+[]+!![]+!![]+!![])+(!+[]+!![]+!![]+!![]+!![]));a.value = (+qAVpWxQ.vo + t.length).toFixed(10); '; 121'\n",
      "        f.action += location.hash;\n",
      "        f.submit();\n",
      "      }, 4000);\n",
      "    }, false);\n",
      "  })();\n",
      "  //]]>\n",
      "</script>\n",
      "\n",
      "</head>\r\n",
      "\r\n",
      "<body>\r\n",
      "<p style=\"color:#009FCC\"><div class=\"cf-browser-verification cf-im-under-attack\">\n",
      "  <noscript><h1 data-translate=\"turn_on_js\" style=\"color:#bd2426;\">Please turn JavaScript on and reload the page.</h1></noscript>\n",
      "  <div id=\"cf-content\" style=\"display:none\">\n",
      "    \n",
      "    <div>\n",
      "      <div class=\"bubbles\"></div>\n",
      "      <div class=\"bubbles\"></div>\n",
      "      <div class=\"bubbles\"></div>\n",
      "    </div>\n",
      "    <h1><span data-translate=\"checking_browser\">Checking your browser before accessing</span> www.com.tw.</h1>\n",
      "    \n",
      "    <p data-translate=\"process_is_automatic\">This process is automatic. Your browser will redirect to your requested content shortly.</p>\n",
      "    <p data-translate=\"allow_5_secs\">Please allow up to 5 seconds&hellip;</p>\n",
      "  </div>\n",
      "   \n",
      "  <form id=\"challenge-form\" action=\"/cdn-cgi/l/chk_jschl\" method=\"get\">\n",
      "    <input type=\"hidden\" name=\"s\" value=\"b2b2504381286818fa92c12005f696116e3abf35-1560276086-1800-AXc2exAVWkabu7xnrxPU+IYng3QvfsGkhl/hB834mJQTt5Ui7sbYNUcLKA1Ct9R/9D3DBrJlT9jmmNnIbR91FqIB6ig1OXw68TyhOKvQDn56NHh93YVEhGWiac+MYhWkWIPjPVbmjGEDbu9uFQFt4fh6pCQVRTHI67gGyLuKBixT\"></input>\n",
      "    <input type=\"hidden\" name=\"jschl_vc\" value=\"6056f15af1bb56d57b46b82bf6d25f91\"/>\n",
      "    <input type=\"hidden\" name=\"pass\" value=\"1560276090.545-eSEPvgc5H3\"/>\n",
      "    <input type=\"hidden\" id=\"jschl-answer\" name=\"jschl_answer\"/>\n",
      "  </form>\n",
      "  \n",
      "</div>\n",
      "</p>\r\n",
      "<br />\r\n",
      "  <br />\r\n",
      "  <br />\r\n",
      "  <br />\r\n",
      "  <br />\r\n",
      "  <div align=\"center\">\r\n",
      "  <h1>\r\n",
      "    <strong>http://www.com.tw&nbsp;&nbsp;&nbsp;祝你金榜題名</strong></h1>\r\n",
      "</div>\r\n",
      "<div align=\"center\">\r\n",
      "  <h1>\r\n",
      "    <strong>學測&nbsp;&nbsp;&nbsp;統測&nbsp;&nbsp;&nbsp; 指考</strong></h1>\r\n",
      "</div>\r\n",
      "<div align=\"center\">\r\n",
      "  <h1>\r\n",
      "    <strong>交叉查榜:::落點分析</strong></h1>\r\n",
      "</div>\r\n",
      "<div align=\"center\">\r\n",
      "  <h1><br />\r\n",
      "    <strong>稍待5秒 . . . . 自動前往你要的本站網頁</strong></h1>\r\n",
      "</div>\r\n",
      "</body>\r\n",
      "</html>\n"
     ]
    }
   ],
   "source": [
    "print(re.text)"
   ]
  },
  {
   "cell_type": "code",
   "execution_count": null,
   "metadata": {},
   "outputs": [],
   "source": [
    "context = ssl._create_unverified_context()"
   ]
  },
  {
   "cell_type": "code",
   "execution_count": null,
   "metadata": {},
   "outputs": [],
   "source": [
    "urllib.request.urlopen(url, context=context)"
   ]
  },
  {
   "cell_type": "code",
   "execution_count": null,
   "metadata": {},
   "outputs": [],
   "source": []
  }
 ],
 "metadata": {
  "kernelspec": {
   "display_name": "Python 3",
   "language": "python",
   "name": "python3"
  },
  "language_info": {
   "codemirror_mode": {
    "name": "ipython",
    "version": 3
   },
   "file_extension": ".py",
   "mimetype": "text/x-python",
   "name": "python",
   "nbconvert_exporter": "python",
   "pygments_lexer": "ipython3",
   "version": "3.6.8"
  }
 },
 "nbformat": 4,
 "nbformat_minor": 2
}
