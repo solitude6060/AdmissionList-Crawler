{
 "cells": [
  {
   "cell_type": "code",
   "execution_count": 1,
   "metadata": {},
   "outputs": [],
   "source": [
    "from bs4 import BeautifulSoup\n",
    "import os"
   ]
  },
  {
   "cell_type": "code",
   "execution_count": 2,
   "metadata": {},
   "outputs": [],
   "source": [
    "def get_char():\n",
    "    list_char = list()\n",
    "    for i in range(0x4e00,0x9fa6):\n",
    "        list_char.append(chr(i))\n",
    "    return list_char"
   ]
  },
  {
   "cell_type": "code",
   "execution_count": 3,
   "metadata": {},
   "outputs": [],
   "source": [
    "list_char = get_char()"
   ]
  },
  {
   "cell_type": "code",
   "execution_count": 4,
   "metadata": {},
   "outputs": [],
   "source": [
    "def check_is_ch_word(word) : \n",
    "    for w in word :\n",
    "        if w not in list_char:# and w != \" \" and not w.isalpha():\n",
    "            if w != '*':\n",
    "                return False\n",
    "        \n",
    "    return True"
   ]
  },
  {
   "cell_type": "code",
   "execution_count": 5,
   "metadata": {},
   "outputs": [],
   "source": [
    "def centered_only(tag):\n",
    "    return len(tag.attrs) == 2 and tag.attrs.get('align') == 'center' and tag.attrs.get('width') == '8%'"
   ]
  },
  {
   "cell_type": "code",
   "execution_count": null,
   "metadata": {},
   "outputs": [
    {
     "name": "stdout",
     "output_type": "stream",
     "text": [
      "check_030012_NO_1_108_0_3.html\n",
      "胡*瑜 \n",
      "False\n",
      "check_030022_NO_1_108_0_3.html\n",
      "陳*霖 \n",
      "False\n",
      "check_030032_NO_1_108_0_3.html\n",
      "沈*蓁 \n",
      "False\n",
      "check_030042_NO_1_108_0_3.html\n",
      "吳*賢 \n",
      "False\n",
      "check_030052_NO_1_108_0_3.html\n",
      "吳*賢 \n",
      "False\n",
      "check_030062_NO_1_108_0_3.html\n",
      "盧*潔 \n",
      "False\n",
      "check_030072_NO_1_108_0_3.html\n",
      "check_030082_NO_1_108_0_3.html\n",
      "check_030092_NO_1_108_0_3.html\n",
      "check_030102_NO_1_108_0_3.html\n",
      "check_030112_NO_1_108_0_3.html\n",
      "check_030122_NO_1_108_0_3.html\n",
      "check_030132_NO_1_108_0_3.html\n",
      "張*晨 \n",
      "False\n",
      "check_030142_NO_1_108_0_3.html\n",
      "黃*竣 \n",
      "False\n",
      "check_030152_NO_1_108_0_3.html\n",
      "林*璇 \n",
      "False\n",
      "check_030162_NO_1_108_0_3.html\n",
      "王*萱 \n",
      "False\n",
      "check_030172_NO_1_108_0_3.html\n",
      "葉*夆 \n",
      "False\n",
      "check_030182_NO_1_108_0_3.html\n",
      "張*鈞 \n",
      "False\n",
      "check_030192_NO_1_108_0_3.html\n",
      "check_030202_NO_1_108_0_3.html\n",
      "杜*瑄 \n",
      "False\n",
      "check_030212_NO_1_108_0_3.html\n",
      "陳*卉 \n",
      "False\n",
      "check_012012_NO_1_108_0_3.html\n",
      "邵*爲 \n",
      "False\n",
      "check_012022_NO_1_108_0_3.html\n",
      "黃*瑜 \n",
      "False\n",
      "check_012032_NO_1_108_0_3.html\n",
      "吳*叡 \n",
      "False\n",
      "check_012042_NO_1_108_0_3.html\n",
      "董*羽 \n",
      "False\n",
      "check_012052_NO_1_108_0_3.html\n",
      "羅*嫣 \n",
      "False\n",
      "check_012062_NO_1_108_0_3.html\n"
     ]
    }
   ],
   "source": [
    "data_path = \"./data/\"\n",
    "name_school_str = \"\"\n",
    "\n",
    "for filename in os.listdir(data_path):\n",
    "    # print(filename)\n",
    "    file_path = data_path + filename+\"/\"\n",
    "    for file in os.listdir(file_path):\n",
    "        print(file)\n",
    "        try :\n",
    "            with open(file_path+file, encoding=\"utf8\") as fp:\n",
    "                html_data = BeautifulSoup(fp, \"html.parser\")\n",
    "                #name = html_data.td(centered_only)\n",
    "    #             name = html_data.find_all(lambda tag:tag.name == \"td\" and\n",
    "    #                 len(tag.attrs) == 2 and tag[\"align\"] == \"center\" and tag['width'] == \"8%\")\n",
    "                names = html_data.find_all(\"td\", {'width':'8%', 'align':'center'})\n",
    "                for name in names:\n",
    "                    if name.string == None or name.string == \"\" or name.string == ' ':\n",
    "                        continue;\n",
    "                    if check_is_ch_word(str(name.string)):\n",
    "                        name_school_str += str(name.string)+\" \"+filename+\"\\n\"\n",
    "                        \n",
    "                    else:\n",
    "                        print(str(name.string))\n",
    "                        print(check_is_ch_word(str(name.string)))\n",
    "                        #break;\n",
    "                        continue;\n",
    "                    \n",
    "                    #print(type(name.string))\n",
    "                    #print(name.string, filename)\n",
    "            fp.close()\n",
    "        except:\n",
    "            continue;"
   ]
  },
  {
   "cell_type": "code",
   "execution_count": null,
   "metadata": {},
   "outputs": [],
   "source": [
    "name_school_str = name_school_str.replace(\"*\", \"○\");"
   ]
  },
  {
   "cell_type": "code",
   "execution_count": null,
   "metadata": {},
   "outputs": [],
   "source": [
    "fo = open(\"uni_clean.txt\", \"w\", encoding=\"utf8\")\n",
    "fo.write(name_school_str)"
   ]
  },
  {
   "cell_type": "code",
   "execution_count": null,
   "metadata": {},
   "outputs": [],
   "source": [
    "r = \"郭*童\""
   ]
  },
  {
   "cell_type": "code",
   "execution_count": null,
   "metadata": {},
   "outputs": [],
   "source": [
    "check_is_ch_word(str(name.string))"
   ]
  },
  {
   "cell_type": "code",
   "execution_count": null,
   "metadata": {},
   "outputs": [],
   "source": []
  }
 ],
 "metadata": {
  "kernelspec": {
   "display_name": "Python 3",
   "language": "python",
   "name": "python3"
  },
  "language_info": {
   "codemirror_mode": {
    "name": "ipython",
    "version": 3
   },
   "file_extension": ".py",
   "mimetype": "text/x-python",
   "name": "python",
   "nbconvert_exporter": "python",
   "pygments_lexer": "ipython3",
   "version": "3.6.8"
  }
 },
 "nbformat": 4,
 "nbformat_minor": 2
}
